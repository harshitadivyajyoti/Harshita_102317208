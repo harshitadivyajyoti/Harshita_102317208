{
 "cells": [
  {
   "cell_type": "markdown",
   "id": "20a1ff5c-eead-4013-a42f-2308c49706b0",
   "metadata": {},
   "source": [
    "## Assignment1"
   ]
  },
  {
   "cell_type": "markdown",
   "id": "15bb33d6-54ac-49fd-abf6-b85d3d792b69",
   "metadata": {},
   "source": [
    "### 1.Write a Python program to print \"Anything You find cool.\""
   ]
  },
  {
   "cell_type": "code",
   "execution_count": 13,
   "id": "4b2ea392-cb86-466a-9db2-8018b02bf836",
   "metadata": {},
   "outputs": [
    {
     "name": "stdout",
     "output_type": "stream",
     "text": [
      "anything you find cool\n"
     ]
    }
   ],
   "source": [
    "print('anything you find cool')"
   ]
  },
  {
   "cell_type": "markdown",
   "id": "32087f3f-caad-4234-aa12-a522a67e532e",
   "metadata": {},
   "source": [
    "###  2.1 Write a program to add two numbers and print the result.\n",
    " "
   ]
  },
  {
   "cell_type": "code",
   "execution_count": 16,
   "id": "832a99b5-b357-4b8a-bf0f-d25c76d3a26c",
   "metadata": {},
   "outputs": [
    {
     "name": "stdout",
     "output_type": "stream",
     "text": [
      "5\n"
     ]
    }
   ],
   "source": [
    "a=2\n",
    "b=3\n",
    "c=a+b\n",
    "print(c)"
   ]
  },
  {
   "cell_type": "markdown",
   "id": "7e93f92d-a9d8-4f70-8a39-d31c01c2afd6",
   "metadata": {},
   "source": [
    "### 2.2 Write a program to concatenate two strings and print the result."
   ]
  },
  {
   "cell_type": "code",
   "execution_count": 19,
   "id": "bcb675bd-b479-4605-a745-14a8da9b5174",
   "metadata": {},
   "outputs": [
    {
     "name": "stdout",
     "output_type": "stream",
     "text": [
      "cognitivecomputing\n"
     ]
    }
   ],
   "source": [
    "a='cognitive'\n",
    "b='computing'\n",
    "print(a+b)\n"
   ]
  },
  {
   "cell_type": "markdown",
   "id": "8f17f718-e673-4e19-913b-1b19c8a01109",
   "metadata": {},
   "source": [
    "###  2.3 Write a program to concatenate a string and a number and print the result."
   ]
  },
  {
   "cell_type": "code",
   "execution_count": 22,
   "id": "5039e207-4e7e-448c-9782-0f8f18d33054",
   "metadata": {},
   "outputs": [
    {
     "name": "stdout",
     "output_type": "stream",
     "text": [
      "3birds\n"
     ]
    }
   ],
   "source": [
    "a=3\n",
    "b='birds'\n",
    "print(str(a)+b)\n"
   ]
  },
  {
   "cell_type": "markdown",
   "id": "142880e3-a3d3-473f-a6d8-355e3c8cfe4c",
   "metadata": {},
   "source": [
    "### 3.1 Write a Python program to check if a number is positive, negative, or zero using an if-else statement."
   ]
  },
  {
   "cell_type": "code",
   "execution_count": 29,
   "id": "1c991d26-a7e1-481c-aa96-604ca3773310",
   "metadata": {},
   "outputs": [
    {
     "name": "stdin",
     "output_type": "stream",
     "text": [
      "enter a number 5\n"
     ]
    },
    {
     "name": "stdout",
     "output_type": "stream",
     "text": [
      "positive\n"
     ]
    }
   ],
   "source": [
    "a=int(input('enter a number'))\n",
    "if a==0:\n",
    "    print('zero')\n",
    "elif a>0:\n",
    "    print('positive')\n",
    "else:\n",
    "    print('negative')"
   ]
  },
  {
   "cell_type": "markdown",
   "id": "3c55e139-537e-44dd-a145-3836f1de80a0",
   "metadata": {},
   "source": [
    "### 3.2 Write a program to check if a given number is odd or even"
   ]
  },
  {
   "cell_type": "code",
   "execution_count": 32,
   "id": "dd5ff053-74d6-4de8-8f80-ba8a5e52bf02",
   "metadata": {},
   "outputs": [
    {
     "name": "stdin",
     "output_type": "stream",
     "text": [
      "enter a number 4\n"
     ]
    },
    {
     "name": "stdout",
     "output_type": "stream",
     "text": [
      "even\n"
     ]
    }
   ],
   "source": [
    "a=int(input('enter a number'))\n",
    "if a%2==0:\n",
    "    print('even')\n",
    "else:\n",
    "    print('odd')"
   ]
  },
  {
   "cell_type": "markdown",
   "id": "80a5939a-0d66-4f46-80f9-83c24ebcc4f5",
   "metadata": {},
   "source": [
    "### 4.1 Write a program to print numbers from 1 to 10 using a for loop."
   ]
  },
  {
   "cell_type": "code",
   "execution_count": 35,
   "id": "8266f7a2-6fb3-4526-8dcd-222dbf68cd77",
   "metadata": {},
   "outputs": [
    {
     "name": "stdout",
     "output_type": "stream",
     "text": [
      "1\n",
      "2\n",
      "3\n",
      "4\n",
      "5\n",
      "6\n",
      "7\n",
      "8\n",
      "9\n",
      "10\n"
     ]
    }
   ],
   "source": [
    "for i in range(1,11):\n",
    "    print(i)"
   ]
  },
  {
   "cell_type": "markdown",
   "id": "d3eca8ba-fe48-4dd1-88b6-f9fe4c985d16",
   "metadata": {},
   "source": [
    "###  4.2 Write a program to print numbers from 1 to 10 using a while loop."
   ]
  },
  {
   "cell_type": "code",
   "execution_count": 38,
   "id": "acce9605-e764-4948-82c6-4a0bdc197e78",
   "metadata": {},
   "outputs": [
    {
     "name": "stdout",
     "output_type": "stream",
     "text": [
      "1\n",
      "2\n",
      "3\n",
      "4\n",
      "5\n",
      "6\n",
      "7\n",
      "8\n",
      "9\n",
      "10\n"
     ]
    }
   ],
   "source": [
    "i=1\n",
    "while i<=10:\n",
    "    print(i)\n",
    "    i=i+1"
   ]
  },
  {
   "cell_type": "markdown",
   "id": "9039048b-4542-4bd7-912e-872152fac317",
   "metadata": {},
   "source": [
    "### 4.3 Write a program to calculate the sum of numbers from 1 to 100 using a loop"
   ]
  },
  {
   "cell_type": "code",
   "execution_count": 41,
   "id": "7fb14426-1562-47a4-ad48-9caf75562037",
   "metadata": {},
   "outputs": [
    {
     "name": "stdout",
     "output_type": "stream",
     "text": [
      "4950\n"
     ]
    }
   ],
   "source": [
    "sum=0\n",
    "for i in range(1,100):\n",
    "    sum+=i\n",
    "print(sum) "
   ]
  },
  {
   "cell_type": "markdown",
   "id": "937ca1ea-2d69-4178-9156-67cd63be2a03",
   "metadata": {},
   "source": [
    "###  5.1 Create a list of 5 numbers. Write a program to find the largest and smallest numbers in the list."
   ]
  },
  {
   "cell_type": "code",
   "execution_count": 44,
   "id": "35abae55-77a4-4638-8f10-04de51ed46a9",
   "metadata": {},
   "outputs": [
    {
     "name": "stdout",
     "output_type": "stream",
     "text": [
      "largest: 9\n",
      "smallest: 2\n"
     ]
    }
   ],
   "source": [
    "\n",
    "l=[2,9,5,8,3]\n",
    "\n",
    "print('largest:',max(l))\n",
    "print('smallest:',min(l))"
   ]
  },
  {
   "cell_type": "markdown",
   "id": "eb5313fc-b4b1-497a-8027-9d2905a1785d",
   "metadata": {},
   "source": [
    "###  5.2 Create a dictionary with at least 3 key-value pairs. Write a program to retrieve the value of a given key"
   ]
  },
  {
   "cell_type": "code",
   "execution_count": 47,
   "id": "6d5d90b9-16bb-4fa0-90b6-8bb64602628a",
   "metadata": {},
   "outputs": [
    {
     "name": "stdout",
     "output_type": "stream",
     "text": [
      "astronaut\n"
     ]
    }
   ],
   "source": [
    "dicc={\n",
    "    'a':'astronaut',\n",
    "    'b':'believer',\n",
    "    'c':'courteous'\n",
    "}\n",
    "print(dicc.get('a','error'))"
   ]
  },
  {
   "cell_type": "markdown",
   "id": "f2f79bd0-121c-43d9-a260-b9d65aaad7f1",
   "metadata": {},
   "source": [
    "###   5.3 Write a program to sort a list of numbers in ascending and descending order\n"
   ]
  },
  {
   "cell_type": "code",
   "execution_count": 54,
   "id": "2daa50c9-d235-4a3a-b09b-5d37bbe466f6",
   "metadata": {},
   "outputs": [
    {
     "name": "stdout",
     "output_type": "stream",
     "text": [
      "ascending order [3, 12, 14, 20, 26, 51]\n",
      "descending order [51, 26, 20, 14, 12, 3]\n"
     ]
    }
   ],
   "source": [
    "l=[26,14,51,12,3,20]\n",
    "l.sort()\n",
    "print('ascending order',l)\n",
    "l.sort(reverse=True)\n",
    "print('descending order',l)"
   ]
  },
  {
   "cell_type": "markdown",
   "id": "dcba2a4d-cbd5-4ecc-8171-d37dec76888e",
   "metadata": {},
   "source": [
    "### 5.4 Write a program to merge two dictionaries into one."
   ]
  },
  {
   "cell_type": "code",
   "execution_count": 56,
   "id": "94074896-b7f4-430b-9687-ae1ca1d860bf",
   "metadata": {},
   "outputs": [
    {
     "name": "stdout",
     "output_type": "stream",
     "text": [
      "{'chocolate': 'icecream', 'mango': 'milkshake', 'oreo': 'biscuit', 'aloo': 'tikki', 'french': 'fries'}\n"
     ]
    }
   ],
   "source": [
    "d1={\n",
    "    'chocolate':'icecream', 'mango':'milkshake', 'oreo':'biscuit' \n",
    "}\n",
    "d2={\n",
    "    'aloo':'tikki','french':'fries'\n",
    "}\n",
    "d1.update(d2)\n",
    "print(d1)"
   ]
  },
  {
   "cell_type": "markdown",
   "id": "b2c2e46f-2a7a-4550-bb9b-8d43ae63564a",
   "metadata": {},
   "source": [
    "###  6.1 Write a program to count the number of vowels in a given string"
   ]
  },
  {
   "cell_type": "code",
   "execution_count": 65,
   "id": "837629ad-408e-4748-a9ba-2e65c55131b8",
   "metadata": {},
   "outputs": [
    {
     "name": "stdin",
     "output_type": "stream",
     "text": [
      "enter a string education\n"
     ]
    },
    {
     "name": "stdout",
     "output_type": "stream",
     "text": [
      "number of vowels: 5\n"
     ]
    }
   ],
   "source": [
    "s=input('enter a string')\n",
    "count=0\n",
    "for c in s:\n",
    "    if c=='a'or c=='e' or c=='i' or c=='o' or c=='u':\n",
    "        count=count+1\n",
    "print('number of vowels:',count)"
   ]
  },
  {
   "cell_type": "markdown",
   "id": "b41b283d-2f4f-4fb1-9235-47006b497354",
   "metadata": {},
   "source": [
    "### 6.2 Write a program to reverse a string and print it."
   ]
  },
  {
   "cell_type": "code",
   "execution_count": 68,
   "id": "882cf90e-7572-4f38-9e21-3732a499e576",
   "metadata": {},
   "outputs": [
    {
     "name": "stdout",
     "output_type": "stream",
     "text": [
      "elbairav\n"
     ]
    }
   ],
   "source": [
    "s='variable'\n",
    "print(s[::-1])"
   ]
  },
  {
   "cell_type": "markdown",
   "id": "435158a9-6f25-4fd5-880b-baca7fcc9302",
   "metadata": {},
   "source": [
    "###  6.3 Write a program to check if a string is a palindrome."
   ]
  },
  {
   "cell_type": "code",
   "execution_count": 71,
   "id": "2a33eb1e-91fd-4fd5-9077-95d27ae5e2fc",
   "metadata": {},
   "outputs": [
    {
     "name": "stdout",
     "output_type": "stream",
     "text": [
      "palindrome\n"
     ]
    }
   ],
   "source": [
    "s='madam'\n",
    "v=s[::-1]\n",
    "if s==v:\n",
    "    print('palindrome')\n",
    "else:\n",
    "    print('not a palindrome')"
   ]
  },
  {
   "cell_type": "markdown",
   "id": "61ce78b5-7aa7-4de5-b362-8841cdb84fd0",
   "metadata": {},
   "source": [
    "###  7.1 Write a program to create a text file, write some text into it, and then read and print the content"
   ]
  },
  {
   "cell_type": "code",
   "execution_count": 74,
   "id": "fc3bb60e-4ee2-40a5-8c08-32de6aee61d4",
   "metadata": {},
   "outputs": [
    {
     "name": "stdout",
     "output_type": "stream",
     "text": [
      "content: hello and welcome\n"
     ]
    }
   ],
   "source": [
    "f='myfile.txt'\n",
    "with open(f,\"w\") as file:\n",
    "    file.write(\"hello and welcome\")\n",
    "with open(f,\"r\") as file:\n",
    "   print('content:', file.read())"
   ]
  },
  {
   "cell_type": "markdown",
   "id": "ce23f15b-1868-4f91-a3d1-8a778e2562cd",
   "metadata": {},
   "source": [
    "###  7.2 Write a program to append text to an existing file and print the updated content"
   ]
  },
  {
   "cell_type": "code",
   "execution_count": 83,
   "id": "828bbb65-23e6-4605-9a34-ea3073c2c3a6",
   "metadata": {},
   "outputs": [
    {
     "name": "stdout",
     "output_type": "stream",
     "text": [
      "content: hello and welcomeappending new data\n",
      " appending new data\n",
      " appending new data\n",
      " appending new data into file\n"
     ]
    }
   ],
   "source": [
    "with open(f,\"a\") as file:\n",
    "    file.write(\"\\n appending new data into file\")\n",
    "with open(f,\"r\") as file:\n",
    "   print('content:', file.read())"
   ]
  },
  {
   "cell_type": "markdown",
   "id": "9ac2379e-70a6-4eb2-86a1-52822f24419c",
   "metadata": {},
   "source": [
    "### 7.3 Write a program to count the number of lines in a text file."
   ]
  },
  {
   "cell_type": "code",
   "execution_count": 86,
   "id": "a818f699-676b-46a7-9383-4380962b581e",
   "metadata": {},
   "outputs": [
    {
     "name": "stdout",
     "output_type": "stream",
     "text": [
      "number of lines: 4\n"
     ]
    }
   ],
   "source": [
    "with open(f,\"r\") as file:\n",
    "    lines=file.readlines()\n",
    "    count=len(lines)\n",
    "print('number of lines:',count)"
   ]
  },
  {
   "cell_type": "markdown",
   "id": "f987e4c1-87c1-4e73-89b0-f01c3044572c",
   "metadata": {},
   "source": [
    "### 8.1 Write a program to handle division by zero using a try-except block."
   ]
  },
  {
   "cell_type": "code",
   "execution_count": 89,
   "id": "f859c043-ed4b-49ec-93cb-d8c00bd22c67",
   "metadata": {},
   "outputs": [
    {
     "name": "stdin",
     "output_type": "stream",
     "text": [
      "enter a 10\n",
      "enter b 0\n"
     ]
    },
    {
     "name": "stdout",
     "output_type": "stream",
     "text": [
      "division by zero not allowed\n"
     ]
    }
   ],
   "source": [
    "try:\n",
    "    a=float(input('enter a'))\n",
    "    b=float(input('enter b'))\n",
    "    c=a/b\n",
    "    print('division succesful with quotient ',c)\n",
    "except ZeroDivisionError:\n",
    "    print('division by zero not allowed')"
   ]
  },
  {
   "cell_type": "markdown",
   "id": "592b1f98-907c-4cd9-b23d-c7fc6a1ff2ea",
   "metadata": {},
   "source": [
    "###  8.2 Write a program to handle invalid input (e.g., when the user enters a string instead of a number)."
   ]
  },
  {
   "cell_type": "code",
   "execution_count": 98,
   "id": "382a47a4-c2ac-4716-bfd6-ada51b01761b",
   "metadata": {},
   "outputs": [
    {
     "name": "stdin",
     "output_type": "stream",
     "text": [
      "enter a number: d\n"
     ]
    },
    {
     "name": "stdout",
     "output_type": "stream",
     "text": [
      "invalid input\n"
     ]
    }
   ],
   "source": [
    "try:\n",
    "    a=int(input('enter a number:'))\n",
    "except ValueError:\n",
    "    print('invalid input')"
   ]
  },
  {
   "cell_type": "markdown",
   "id": "fde423be-58c6-45d8-9ac9-1188692b6c8a",
   "metadata": {},
   "source": [
    "### 8.3 Write a program to demonstrate the use of finally in exception handling"
   ]
  },
  {
   "cell_type": "code",
   "execution_count": 101,
   "id": "c532b6a8-0e4a-4004-987d-919db59e044c",
   "metadata": {},
   "outputs": [
    {
     "name": "stdin",
     "output_type": "stream",
     "text": [
      "enter numerator 10\n",
      "enter denominator 2\n"
     ]
    },
    {
     "name": "stdout",
     "output_type": "stream",
     "text": [
      "division succesful with quotient  5.0\n",
      "execution of try-except block is complete\n"
     ]
    }
   ],
   "source": [
    "try:\n",
    "    a=float(input('enter numerator'))\n",
    "    b=float(input('enter denominator'))\n",
    "    c=a/b\n",
    "    print('division succesful with quotient ',c)\n",
    "except ZeroDivisionError:\n",
    "    print('division by zero not allowed')\n",
    "except ValueError:\n",
    "    print('invalid input')\n",
    "finally:\n",
    "    print('execution of try-except block is complete')"
   ]
  },
  {
   "cell_type": "markdown",
   "id": "c2e193b8-6785-4f17-80bf-4eae8f23621d",
   "metadata": {},
   "source": [
    "###  9.1 Write a program to generate 5 random numbers between 1 and 100 and print them."
   ]
  },
  {
   "cell_type": "code",
   "execution_count": 104,
   "id": "a9009ab7-8013-43a2-976e-92aa5f10a7e5",
   "metadata": {},
   "outputs": [
    {
     "name": "stdout",
     "output_type": "stream",
     "text": [
      "30\n",
      "34\n",
      "48\n",
      "64\n",
      "3\n"
     ]
    }
   ],
   "source": [
    "import random\n",
    "for i in range(5):\n",
    "    print(random.randint(1,100))\n",
    "    "
   ]
  },
  {
   "cell_type": "markdown",
   "id": "09698b00-d2d7-4c95-af39-4d92e70059a9",
   "metadata": {},
   "source": [
    "###  9.2 Write a program to generate a random number and check if it is prime"
   ]
  },
  {
   "cell_type": "code",
   "execution_count": 111,
   "id": "c97aea38-3934-4cca-9f88-aa3054c4b1ff",
   "metadata": {},
   "outputs": [
    {
     "name": "stdout",
     "output_type": "stream",
     "text": [
      "random no.= 84\n",
      "not a prime\n"
     ]
    }
   ],
   "source": [
    "import random\n",
    "import math\n",
    "x=random.randint(1,100)\n",
    "print('random no.=',x)\n",
    "for i in range(2,int(math.sqrt(x))+1):\n",
    "    if x%i==0:\n",
    "        print('not a prime')\n",
    "        break\n",
    "    else:\n",
    "        print('prime no.')"
   ]
  },
  {
   "cell_type": "markdown",
   "id": "9a1c868a-e9a7-424d-aae3-e32382980c40",
   "metadata": {},
   "source": [
    "### 9.3 Write a program to simulate rolling a six-sided die."
   ]
  },
  {
   "cell_type": "code",
   "execution_count": 114,
   "id": "06cb4783-781d-4f64-8a34-fa709c982db8",
   "metadata": {},
   "outputs": [
    {
     "name": "stdout",
     "output_type": "stream",
     "text": [
      "you rolled  5\n"
     ]
    }
   ],
   "source": [
    "import random\n",
    "x=random.randint(1,6)\n",
    "print('you rolled ',x)"
   ]
  },
  {
   "cell_type": "markdown",
   "id": "9a44fb5c-12bf-4892-a9fb-152444cc1ada",
   "metadata": {},
   "source": [
    "### 9.4 Write a program to shuffle a list of numbers."
   ]
  },
  {
   "cell_type": "code",
   "execution_count": 117,
   "id": "7aa6f073-d9e9-436c-a734-e15805cb086e",
   "metadata": {},
   "outputs": [
    {
     "name": "stdout",
     "output_type": "stream",
     "text": [
      "shuffled list [5, 3, 4, 1, 2]\n"
     ]
    }
   ],
   "source": [
    "import random\n",
    "l=[1,2,3,4,5]\n",
    "random.shuffle(l)\n",
    "print('shuffled list',l)"
   ]
  },
  {
   "cell_type": "markdown",
   "id": "508bcfff-8432-421b-8abb-e5af7374b85a",
   "metadata": {},
   "source": [
    "###  9.5 Write a program to randomly select an item from a list."
   ]
  },
  {
   "cell_type": "code",
   "execution_count": 120,
   "id": "be5a3fec-7b19-4ad0-86c7-4fad51fb7ed7",
   "metadata": {},
   "outputs": [
    {
     "name": "stdout",
     "output_type": "stream",
     "text": [
      "random from list: 1\n"
     ]
    }
   ],
   "source": [
    "l=[1,2,3,4,5]\n",
    "print('random from list:',random.choice(l))"
   ]
  },
  {
   "cell_type": "markdown",
   "id": "29ccb38a-ba9e-423b-b80d-a35fc1c3e40f",
   "metadata": {},
   "source": [
    "###  9.6 Write a program to generate a random password of given length."
   ]
  },
  {
   "cell_type": "code",
   "execution_count": null,
   "id": "d10b2c42-3b84-4cbe-96be-4c3b69be3c37",
   "metadata": {},
   "outputs": [],
   "source": [
    "import string\n",
    "import random\n",
    "p=str"
   ]
  }
 ],
 "metadata": {
  "kernelspec": {
   "display_name": "Python [conda env:base] *",
   "language": "python",
   "name": "conda-base-py"
  },
  "language_info": {
   "codemirror_mode": {
    "name": "ipython",
    "version": 3
   },
   "file_extension": ".py",
   "mimetype": "text/x-python",
   "name": "python",
   "nbconvert_exporter": "python",
   "pygments_lexer": "ipython3",
   "version": "3.12.7"
  }
 },
 "nbformat": 4,
 "nbformat_minor": 5
}
